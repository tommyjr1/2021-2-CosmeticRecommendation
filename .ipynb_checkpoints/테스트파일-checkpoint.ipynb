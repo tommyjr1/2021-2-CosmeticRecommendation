{
 "cells": [
  {
   "cell_type": "code",
   "execution_count": null,
   "metadata": {
    "lines_to_next_cell": 1
   },
   "outputs": [],
   "source": [
    "import scipy as sp \n",
    "import pandas as pd\n",
    "import numpy as np\n",
    "import warnings\n",
    "warnings.filterwarnings('ignore')\n",
    "import surprise\n",
    "import pickle\n",
    "import joblib\n",
    "import dill"
   ]
  },
  {
   "cell_type": "code",
   "execution_count": null,
   "metadata": {
    "lines_to_next_cell": 1
   },
   "outputs": [],
   "source": [
    "#데이터 불러오기\n",
    "def load_data():\n",
    "    ourdata = pd.read_csv(\"ourdata.csv\")\n",
    "    ourdata['id'] = ourdata['id'].astype(str)\n",
    "    iddf = ourdata[['id', 'item2', 'point']]\n",
    "    iddf = iddf.groupby(by=['id', 'item2'], as_index=False).min()\n",
    "    return ourdata, iddf"
   ]
  },
  {
   "cell_type": "code",
   "execution_count": null,
   "metadata": {
    "lines_to_next_cell": 1
   },
   "outputs": [],
   "source": [
    "#테이블을 딕셔너리로 만드는 함수\n",
    "def recur_dictify(frame):\n",
    "    if len(frame.columns) ==1:\n",
    "        if frame.values.size == 1: return frame.values[0][0]\n",
    "        return frame.values.squeeze()\n",
    "    grouped = frame.groupby(frame.columns[0])\n",
    "    d = {k: recur_dictify(g.iloc[:,1:]) for k,g in grouped}\n",
    "    return d"
   ]
  },
  {
   "cell_type": "code",
   "execution_count": null,
   "metadata": {
    "lines_to_next_cell": 1
   },
   "outputs": [],
   "source": [
    "# 사용자 목록, 화장품 목록을 리스트로 담기\n",
    "def extract(iddict):\n",
    "    id_list = []\n",
    "    cos_set = set()\n",
    "    for user_key in iddict:\n",
    "        id_list.append(user_key)\n",
    "        \n",
    "        for cos_key in iddict[user_key]:\n",
    "            cos_set.add(cos_key)\n",
    "\n",
    "    cos_list = list(cos_set)\n",
    "    return id_list, cos_list"
   ]
  },
  {
   "cell_type": "code",
   "execution_count": null,
   "metadata": {
    "lines_to_next_cell": 1
   },
   "outputs": [],
   "source": [
    "# CF추천시스템에 사용할 딕셔너리 \n",
    "def create_dic(id_list, cos_list, iddict):\n",
    "    rating_dic = {\n",
    "        'id' : [],\n",
    "        'item' : [],\n",
    "        'point' : []\n",
    "    }\n",
    "\n",
    "    for user_key in iddict:\n",
    "        for cos_key in iddict[user_key]:\n",
    "            \n",
    "            a1 = id_list.index(user_key)\n",
    "            a2 = cos_list.index(cos_key)\n",
    "            a3 = iddict[user_key][cos_key]\n",
    "            \n",
    "            rating_dic['id'].append(a1)\n",
    "            rating_dic['item'].append(a2)\n",
    "            rating_dic['point'].append(a3)\n",
    "\n",
    "    rddf = pd.DataFrame(rating_dic)\n",
    "    return rddf"
   ]
  },
  {
   "cell_type": "code",
   "execution_count": null,
   "metadata": {
    "lines_to_next_cell": 1
   },
   "outputs": [],
   "source": [
    "#모델 업로드\n",
    "def load_model():\n",
    "    algo = joblib.load(\"KNN_model.pkl\")\n",
    "    return algo"
   ]
  },
  {
   "cell_type": "code",
   "execution_count": null,
   "metadata": {
    "lines_to_next_cell": 1
   },
   "outputs": [],
   "source": [
    "#id 찾기\n",
    "def id_func(ourdata):\n",
    "    #기존회원\n",
    "    myid = input(\"id를 입력하세요: \")\n",
    "\n",
    "    #신규회원\n",
    "    property_list = list(ourdata['property'].unique())\n",
    "    subject_list = ['스킨케어', '메이크업', '클렌징', '선케어', '더모 코스메틱']\n",
    "    brand_list = list(ourdata['item1'].unique())\n",
    "\n",
    "    print(property_list)\n",
    "    prop = input(\"피부타입을 입력하세요: \")\n",
    "    print('\\n')\n",
    "\n",
    "    print(subject_list)\n",
    "    sub = input(\"분야를 선택하세요: \")\n",
    "    print('\\n')\n",
    "\n",
    "    print(brand_list)\n",
    "    brand = input(\"브랜드를 선택하세요: \")\n",
    "    print('\\n')\n",
    "\n",
    "    if len(myid) == 0:\n",
    "        newdata = ourdata[ourdata['property'] == prop]\n",
    "        newdata = newdata[newdata['subject'].str.contains(sub)]\n",
    "\n",
    "        mydata = newdata[newdata['item1'] == brand]\n",
    "\n",
    "        if len(mydata) >=1 :\n",
    "            a = pd.DataFrame(mydata.groupby('id').size())\n",
    "            a = a.sort_values(by = a.columns[0], ascending = False)\n",
    "            myid = a.index[0]\n",
    "        \n",
    "        else:\n",
    "            b = pd.DataFrame(newdata.groupby('id').size())\n",
    "            b = b.sort_values(by = b.columns[0], ascending = False)\n",
    "            myid = b.index[0]\n",
    "    return myid"
   ]
  },
  {
   "cell_type": "code",
   "execution_count": null,
   "metadata": {},
   "outputs": [],
   "source": [
    "def main_func():\n",
    "    col_list = ['id', 'item', 'point']\n",
    "    reader = surprise.Reader(rating_scale = (1,5))\n",
    "    cfdata = surprise.Dataset.load_from_df(rddf[col_list], reader)\n",
    "    index = id_list.index(myid)\n",
    "    result = algo.get_neighbors(index, k=5)\n",
    "\n",
    "    print('당신에게 추천드리는 화장품: ', '\\n')\n",
    "\n",
    "    for r1 in result:\n",
    "        max_rating = cfdata.df[cfdata.df['id']==r1]['point'].max()\n",
    "        cos_id = cfdata.df[(cfdata.df['point']==max_rating)&(cfdata.df['id']==r1)]['item'][:2].values\n",
    "        \n",
    "        for cos_item in cos_id:\n",
    "            print(cos_list[cos_item])"
   ]
  },
  {
   "cell_type": "code",
   "execution_count": null,
   "metadata": {},
   "outputs": [],
   "source": [
    "ourdata, iddf = load_data()\n",
    "iddict = recur_dictify(iddf)\n",
    "id_list, cos_list = extract(iddict)\n",
    "rddf = create_dic(id_list, cos_list, iddict)\n",
    "algo = load_model()\n",
    "myid = id_func(ourdata)\n",
    "main_func()"
   ]
  }
 ],
 "metadata": {
  "jupytext": {
   "encoding": "# -*- coding: utf-8 -*-",
   "formats": "ipynb,py:light",
   "text_representation": {
    "extension": ".py",
    "format_name": "light",
    "format_version": "1.5",
    "jupytext_version": "1.13.4"
   }
  },
  "kernelspec": {
   "display_name": "Python 3",
   "language": "python",
   "name": "python3"
  },
  "language_info": {
   "codemirror_mode": {
    "name": "ipython",
    "version": 3
   },
   "file_extension": ".py",
   "mimetype": "text/x-python",
   "name": "python",
   "nbconvert_exporter": "python",
   "pygments_lexer": "ipython3",
   "version": "3.8.5"
  }
 },
 "nbformat": 4,
 "nbformat_minor": 4
}
